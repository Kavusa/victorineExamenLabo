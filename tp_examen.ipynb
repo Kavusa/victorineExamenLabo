{
 "cells": [
  {
   "cell_type": "code",
   "execution_count": 1,
   "id": "96b0fb1d",
   "metadata": {},
   "outputs": [
    {
     "data": {
      "text/html": [
       "<div>\n",
       "<style scoped>\n",
       "    .dataframe tbody tr th:only-of-type {\n",
       "        vertical-align: middle;\n",
       "    }\n",
       "\n",
       "    .dataframe tbody tr th {\n",
       "        vertical-align: top;\n",
       "    }\n",
       "\n",
       "    .dataframe thead th {\n",
       "        text-align: right;\n",
       "    }\n",
       "</style>\n",
       "<table border=\"1\" class=\"dataframe\">\n",
       "  <thead>\n",
       "    <tr style=\"text-align: right;\">\n",
       "      <th></th>\n",
       "      <th>Pregnancies</th>\n",
       "      <th>Glucose</th>\n",
       "      <th>BloodPressure</th>\n",
       "      <th>SkinThickness</th>\n",
       "      <th>Insulin</th>\n",
       "      <th>BMI</th>\n",
       "      <th>DiabetesPedigreeFunction</th>\n",
       "      <th>Age</th>\n",
       "      <th>Outcome</th>\n",
       "    </tr>\n",
       "  </thead>\n",
       "  <tbody>\n",
       "    <tr>\n",
       "      <th>0</th>\n",
       "      <td>6</td>\n",
       "      <td>148</td>\n",
       "      <td>72</td>\n",
       "      <td>35</td>\n",
       "      <td>0</td>\n",
       "      <td>33.6</td>\n",
       "      <td>0.627</td>\n",
       "      <td>50</td>\n",
       "      <td>1</td>\n",
       "    </tr>\n",
       "    <tr>\n",
       "      <th>1</th>\n",
       "      <td>1</td>\n",
       "      <td>85</td>\n",
       "      <td>66</td>\n",
       "      <td>29</td>\n",
       "      <td>0</td>\n",
       "      <td>26.6</td>\n",
       "      <td>0.351</td>\n",
       "      <td>31</td>\n",
       "      <td>0</td>\n",
       "    </tr>\n",
       "    <tr>\n",
       "      <th>2</th>\n",
       "      <td>8</td>\n",
       "      <td>183</td>\n",
       "      <td>64</td>\n",
       "      <td>0</td>\n",
       "      <td>0</td>\n",
       "      <td>23.3</td>\n",
       "      <td>0.672</td>\n",
       "      <td>32</td>\n",
       "      <td>1</td>\n",
       "    </tr>\n",
       "    <tr>\n",
       "      <th>3</th>\n",
       "      <td>1</td>\n",
       "      <td>89</td>\n",
       "      <td>66</td>\n",
       "      <td>23</td>\n",
       "      <td>94</td>\n",
       "      <td>28.1</td>\n",
       "      <td>0.167</td>\n",
       "      <td>21</td>\n",
       "      <td>0</td>\n",
       "    </tr>\n",
       "    <tr>\n",
       "      <th>4</th>\n",
       "      <td>0</td>\n",
       "      <td>137</td>\n",
       "      <td>40</td>\n",
       "      <td>35</td>\n",
       "      <td>168</td>\n",
       "      <td>43.1</td>\n",
       "      <td>2.288</td>\n",
       "      <td>33</td>\n",
       "      <td>1</td>\n",
       "    </tr>\n",
       "    <tr>\n",
       "      <th>...</th>\n",
       "      <td>...</td>\n",
       "      <td>...</td>\n",
       "      <td>...</td>\n",
       "      <td>...</td>\n",
       "      <td>...</td>\n",
       "      <td>...</td>\n",
       "      <td>...</td>\n",
       "      <td>...</td>\n",
       "      <td>...</td>\n",
       "    </tr>\n",
       "    <tr>\n",
       "      <th>763</th>\n",
       "      <td>10</td>\n",
       "      <td>101</td>\n",
       "      <td>76</td>\n",
       "      <td>48</td>\n",
       "      <td>180</td>\n",
       "      <td>32.9</td>\n",
       "      <td>0.171</td>\n",
       "      <td>63</td>\n",
       "      <td>0</td>\n",
       "    </tr>\n",
       "    <tr>\n",
       "      <th>764</th>\n",
       "      <td>2</td>\n",
       "      <td>122</td>\n",
       "      <td>70</td>\n",
       "      <td>27</td>\n",
       "      <td>0</td>\n",
       "      <td>36.8</td>\n",
       "      <td>0.340</td>\n",
       "      <td>27</td>\n",
       "      <td>0</td>\n",
       "    </tr>\n",
       "    <tr>\n",
       "      <th>765</th>\n",
       "      <td>5</td>\n",
       "      <td>121</td>\n",
       "      <td>72</td>\n",
       "      <td>23</td>\n",
       "      <td>112</td>\n",
       "      <td>26.2</td>\n",
       "      <td>0.245</td>\n",
       "      <td>30</td>\n",
       "      <td>0</td>\n",
       "    </tr>\n",
       "    <tr>\n",
       "      <th>766</th>\n",
       "      <td>1</td>\n",
       "      <td>126</td>\n",
       "      <td>60</td>\n",
       "      <td>0</td>\n",
       "      <td>0</td>\n",
       "      <td>30.1</td>\n",
       "      <td>0.349</td>\n",
       "      <td>47</td>\n",
       "      <td>1</td>\n",
       "    </tr>\n",
       "    <tr>\n",
       "      <th>767</th>\n",
       "      <td>1</td>\n",
       "      <td>93</td>\n",
       "      <td>70</td>\n",
       "      <td>31</td>\n",
       "      <td>0</td>\n",
       "      <td>30.4</td>\n",
       "      <td>0.315</td>\n",
       "      <td>23</td>\n",
       "      <td>0</td>\n",
       "    </tr>\n",
       "  </tbody>\n",
       "</table>\n",
       "<p>768 rows × 9 columns</p>\n",
       "</div>"
      ],
      "text/plain": [
       "     Pregnancies  Glucose  BloodPressure  SkinThickness  Insulin   BMI  \\\n",
       "0              6      148             72             35        0  33.6   \n",
       "1              1       85             66             29        0  26.6   \n",
       "2              8      183             64              0        0  23.3   \n",
       "3              1       89             66             23       94  28.1   \n",
       "4              0      137             40             35      168  43.1   \n",
       "..           ...      ...            ...            ...      ...   ...   \n",
       "763           10      101             76             48      180  32.9   \n",
       "764            2      122             70             27        0  36.8   \n",
       "765            5      121             72             23      112  26.2   \n",
       "766            1      126             60              0        0  30.1   \n",
       "767            1       93             70             31        0  30.4   \n",
       "\n",
       "     DiabetesPedigreeFunction  Age  Outcome  \n",
       "0                       0.627   50        1  \n",
       "1                       0.351   31        0  \n",
       "2                       0.672   32        1  \n",
       "3                       0.167   21        0  \n",
       "4                       2.288   33        1  \n",
       "..                        ...  ...      ...  \n",
       "763                     0.171   63        0  \n",
       "764                     0.340   27        0  \n",
       "765                     0.245   30        0  \n",
       "766                     0.349   47        1  \n",
       "767                     0.315   23        0  \n",
       "\n",
       "[768 rows x 9 columns]"
      ]
     },
     "execution_count": 1,
     "metadata": {},
     "output_type": "execute_result"
    }
   ],
   "source": [
    "import pandas as pd\n",
    "data=pd.read_csv('diabetes.csv')\n",
    "data"
   ]
  },
  {
   "cell_type": "code",
   "execution_count": 2,
   "id": "6ae61fa0",
   "metadata": {},
   "outputs": [
    {
     "data": {
      "text/plain": [
       "Pregnancies                 0\n",
       "Glucose                     0\n",
       "BloodPressure               0\n",
       "SkinThickness               0\n",
       "Insulin                     0\n",
       "BMI                         0\n",
       "DiabetesPedigreeFunction    0\n",
       "Age                         0\n",
       "Outcome                     0\n",
       "dtype: int64"
      ]
     },
     "execution_count": 2,
     "metadata": {},
     "output_type": "execute_result"
    }
   ],
   "source": [
    "data.isnull().sum()"
   ]
  },
  {
   "cell_type": "code",
   "execution_count": 3,
   "id": "9d5622c2",
   "metadata": {},
   "outputs": [
    {
     "data": {
      "text/plain": [
       "<AxesSubplot:>"
      ]
     },
     "execution_count": 3,
     "metadata": {},
     "output_type": "execute_result"
    },
    {
     "data": {
      "image/png": "[encoded data removed]",
      "text/plain": [
       "<Figure size 432x288 with 1 Axes>"
      ]
     },
     "metadata": {
      "needs_background": "light"
     },
     "output_type": "display_data"
    }
   ],
   "source": [
    "data.boxplot()"
   ]
  },
  {
   "cell_type": "code",
   "execution_count": 4,
   "id": "f6bac6ec",
   "metadata": {},
   "outputs": [],
   "source": [
    "import numpy as np"
   ]
  },
  {
   "cell_type": "code",
   "execution_count": 5,
   "id": "b65d3580",
   "metadata": {},
   "outputs": [],
   "source": [
    "for insulin in ['Insulin']:\n",
    "    Q3,Q1=np.percentile(data.loc[:,insulin],[75,25])\n",
    "    IQR=Q3-Q1\n",
    "    min=Q1-(1.5*IQR)\n",
    "    max=Q3+(1.5*IQR)\n",
    "    data.loc[data[insulin]<min, insulin]=min\n",
    "    data.loc[data[insulin]>max, insulin]=max"
   ]
  },
  {
   "cell_type": "code",
   "execution_count": 6,
   "id": "ee10dcd9",
   "metadata": {},
   "outputs": [],
   "source": [
    "for SkinThickness in ['SkinThickness']:\n",
    "    Q3,Q1=np.percentile(data.loc[:,SkinThickness],[75,25])\n",
    "    IQR=Q3-Q1\n",
    "    min=Q1-(1.5*IQR)\n",
    "    max=Q3+(1.5*IQR)\n",
    "    data.loc[data[SkinThickness]<min, SkinThickness]=min\n",
    "    data.loc[data[SkinThickness]>max, SkinThickness]=max"
   ]
  },
  {
   "cell_type": "code",
   "execution_count": 7,
   "id": "e484ca73",
   "metadata": {},
   "outputs": [
    {
     "data": {
      "text/plain": [
       "<AxesSubplot:>"
      ]
     },
     "execution_count": 7,
     "metadata": {},
     "output_type": "execute_result"
    },
    {
     "data": {
      "image/png": "[encoded data removed]",
      "text/plain": [
       "<Figure size 432x288 with 1 Axes>"
      ]
     },
     "metadata": {
      "needs_background": "light"
     },
     "output_type": "display_data"
    }
   ],
   "source": [
    "data.boxplot()"
   ]
  },
  {
   "cell_type": "code",
   "execution_count": 8,
   "id": "616ec2c8",
   "metadata": {},
   "outputs": [],
   "source": [
    "for Pregnancies in ['Pregnancies']:\n",
    "    Q3,Q1=np.percentile(data.loc[:,Pregnancies],[75,25])\n",
    "    IQR=Q3-Q1\n",
    "    min=Q1-(1.5*IQR)\n",
    "    max=Q3+(1.5*IQR)\n",
    "    data.loc[data[Pregnancies]<min, Pregnancies]=min\n",
    "    data.loc[data[Pregnancies]>max, Pregnancies]=max"
   ]
  },
  {
   "cell_type": "code",
   "execution_count": 9,
   "id": "1f1f04cd",
   "metadata": {},
   "outputs": [
    {
     "data": {
      "text/plain": [
       "<AxesSubplot:>"
      ]
     },
     "execution_count": 9,
     "metadata": {},
     "output_type": "execute_result"
    },
    {
     "data": {
      "image/png": "[encoded data removed]",
      "text/plain": [
       "<Figure size 432x288 with 1 Axes>"
      ]
     },
     "metadata": {
      "needs_background": "light"
     },
     "output_type": "display_data"
    }
   ],
   "source": [
    "data.boxplot()"
   ]
  },
  {
   "cell_type": "code",
   "execution_count": 10,
   "id": "8791e9d6",
   "metadata": {},
   "outputs": [],
   "source": [
    "for BloodPressure in ['BloodPressure']:\n",
    "    Q3,Q1=np.percentile(data.loc[:,BloodPressure],[75,25])\n",
    "    IQR=Q3-Q1\n",
    "    min=Q1-(1.5*IQR)\n",
    "    max=Q3+(1.5*IQR)\n",
    "    data.loc[data[BloodPressure]<min, BloodPressure]=min\n",
    "    data.loc[data[BloodPressure]>max, BloodPressure]=max"
   ]
  },
  {
   "cell_type": "code",
   "execution_count": 11,
   "id": "bec5468a",
   "metadata": {},
   "outputs": [],
   "source": [
    "for BloodPressure in ['BloodPressure']:\n",
    "    Q3,Q1=np.percentile(data.loc[:,BloodPressure],[75,25])\n",
    "    IQR=Q3-Q1\n",
    "    min=Q1-(1.5*IQR)\n",
    "    max=Q3+(1.5*IQR)\n",
    "    data.loc[data[BloodPressure]<min, BloodPressure]=min\n",
    "    data.loc[data[BloodPressure]>max, BloodPressure]=max"
   ]
  },
  {
   "cell_type": "code",
   "execution_count": 12,
   "id": "235b1ee0",
   "metadata": {},
   "outputs": [],
   "source": [
    "for BMI in ['BMI']:\n",
    "    Q3,Q1=np.percentile(data.loc[:,BMI],[75,25])\n",
    "    IQR=Q3-Q1\n",
    "    min=Q1-(1.5*IQR)\n",
    "    max=Q3+(1.5*IQR)\n",
    "    data.loc[data[BMI]<min, BMI]=min\n",
    "    data.loc[data[BMI]>max, BMI]=max"
   ]
  },
  {
   "cell_type": "code",
   "execution_count": 13,
   "id": "661f366d",
   "metadata": {},
   "outputs": [],
   "source": [
    "for Age in ['Age']:\n",
    "    Q3,Q1=np.percentile(data.loc[:,Age],[75,25])\n",
    "    IQR=Q3-Q1\n",
    "    min=Q1-(1.5*IQR)\n",
    "    max=Q3+(1.5*IQR)\n",
    "    data.loc[data[Age]<min, Age]=min\n",
    "    data.loc[data[Age]>max, Age]=max"
   ]
  },
  {
   "cell_type": "code",
   "execution_count": 14,
   "id": "2455f1fc",
   "metadata": {},
   "outputs": [],
   "source": [
    "for DiabetesPedigreeFunction in ['DiabetesPedigreeFunction']:\n",
    "    Q3,Q1=np.percentile(data.loc[:,DiabetesPedigreeFunction],[75,25])\n",
    "    IQR=Q3-Q1\n",
    "    min=Q1-(1.5*IQR)\n",
    "    max=Q3+(1.5*IQR)\n",
    "    data.loc[data[DiabetesPedigreeFunction]<min, DiabetesPedigreeFunction]=min\n",
    "    data.loc[data[DiabetesPedigreeFunction]>max, DiabetesPedigreeFunction]=max"
   ]
  },
  {
   "cell_type": "code",
   "execution_count": 15,
   "id": "993ce09d",
   "metadata": {},
   "outputs": [],
   "source": [
    "for Glucose in ['Glucose']:\n",
    "    Q3,Q1=np.percentile(data.loc[:,Glucose],[75,25])\n",
    "    IQR=Q3-Q1\n",
    "    min=Q1-(1.5*IQR)\n",
    "    max=Q3+(1.5*IQR)\n",
    "    data.loc[data[Glucose]<min, Glucose]=min\n",
    "    data.loc[data[Glucose]>max, Glucose]=max"
   ]
  },
  {
   "cell_type": "code",
   "execution_count": 16,
   "id": "b43f46e8",
   "metadata": {},
   "outputs": [
    {
     "data": {
      "text/plain": [
       "<AxesSubplot:>"
      ]
     },
     "execution_count": 16,
     "metadata": {},
     "output_type": "execute_result"
    },
    {
     "data": {
      "image/png": "[encoded data removed]",
      "text/plain": [
       "<Figure size 432x288 with 1 Axes>"
      ]
     },
     "metadata": {
      "needs_background": "light"
     },
     "output_type": "display_data"
    }
   ],
   "source": [
    "data.boxplot()"
   ]
  },
  {
   "cell_type": "code",
   "execution_count": 17,
   "id": "87a62663",
   "metadata": {},
   "outputs": [
    {
     "name": "stdout",
     "output_type": "stream",
     "text": [
      "<class 'pandas.core.frame.DataFrame'>\n",
      "RangeIndex: 768 entries, 0 to 767\n",
      "Data columns (total 9 columns):\n",
      " #   Column                    Non-Null Count  Dtype  \n",
      "---  ------                    --------------  -----  \n",
      " 0   Pregnancies               768 non-null    float64\n",
      " 1   Glucose                   768 non-null    float64\n",
      " 2   BloodPressure             768 non-null    int64  \n",
      " 3   SkinThickness             768 non-null    int64  \n",
      " 4   Insulin                   768 non-null    float64\n",
      " 5   BMI                       768 non-null    float64\n",
      " 6   DiabetesPedigreeFunction  768 non-null    float64\n",
      " 7   Age                       768 non-null    float64\n",
      " 8   Outcome                   768 non-null    int64  \n",
      "dtypes: float64(6), int64(3)\n",
      "memory usage: 54.1 KB\n"
     ]
    }
   ],
   "source": [
    "data.info()"
   ]
  },
  {
   "cell_type": "code",
   "execution_count": 18,
   "id": "cbb2c714",
   "metadata": {},
   "outputs": [
    {
     "data": {
      "text/html": [
       "<div>\n",
       "<style scoped>\n",
       "    .dataframe tbody tr th:only-of-type {\n",
       "        vertical-align: middle;\n",
       "    }\n",
       "\n",
       "    .dataframe tbody tr th {\n",
       "        vertical-align: top;\n",
       "    }\n",
       "\n",
       "    .dataframe thead th {\n",
       "        text-align: right;\n",
       "    }\n",
       "</style>\n",
       "<table border=\"1\" class=\"dataframe\">\n",
       "  <thead>\n",
       "    <tr style=\"text-align: right;\">\n",
       "      <th></th>\n",
       "      <th>Pregnancies</th>\n",
       "      <th>Glucose</th>\n",
       "      <th>BloodPressure</th>\n",
       "      <th>SkinThickness</th>\n",
       "      <th>Insulin</th>\n",
       "      <th>BMI</th>\n",
       "      <th>DiabetesPedigreeFunction</th>\n",
       "      <th>Age</th>\n",
       "      <th>Outcome</th>\n",
       "    </tr>\n",
       "  </thead>\n",
       "  <tbody>\n",
       "    <tr>\n",
       "      <th>0</th>\n",
       "      <td>6.0</td>\n",
       "      <td>148.0</td>\n",
       "      <td>72</td>\n",
       "      <td>35</td>\n",
       "      <td>0.0</td>\n",
       "      <td>33.6</td>\n",
       "      <td>0.627</td>\n",
       "      <td>50.0</td>\n",
       "      <td>1</td>\n",
       "    </tr>\n",
       "    <tr>\n",
       "      <th>1</th>\n",
       "      <td>1.0</td>\n",
       "      <td>85.0</td>\n",
       "      <td>66</td>\n",
       "      <td>29</td>\n",
       "      <td>0.0</td>\n",
       "      <td>26.6</td>\n",
       "      <td>0.351</td>\n",
       "      <td>31.0</td>\n",
       "      <td>0</td>\n",
       "    </tr>\n",
       "    <tr>\n",
       "      <th>2</th>\n",
       "      <td>8.0</td>\n",
       "      <td>183.0</td>\n",
       "      <td>64</td>\n",
       "      <td>0</td>\n",
       "      <td>0.0</td>\n",
       "      <td>23.3</td>\n",
       "      <td>0.672</td>\n",
       "      <td>32.0</td>\n",
       "      <td>1</td>\n",
       "    </tr>\n",
       "    <tr>\n",
       "      <th>3</th>\n",
       "      <td>1.0</td>\n",
       "      <td>89.0</td>\n",
       "      <td>66</td>\n",
       "      <td>23</td>\n",
       "      <td>94.0</td>\n",
       "      <td>28.1</td>\n",
       "      <td>0.167</td>\n",
       "      <td>21.0</td>\n",
       "      <td>0</td>\n",
       "    </tr>\n",
       "    <tr>\n",
       "      <th>4</th>\n",
       "      <td>0.0</td>\n",
       "      <td>137.0</td>\n",
       "      <td>40</td>\n",
       "      <td>35</td>\n",
       "      <td>168.0</td>\n",
       "      <td>43.1</td>\n",
       "      <td>1.200</td>\n",
       "      <td>33.0</td>\n",
       "      <td>1</td>\n",
       "    </tr>\n",
       "    <tr>\n",
       "      <th>...</th>\n",
       "      <td>...</td>\n",
       "      <td>...</td>\n",
       "      <td>...</td>\n",
       "      <td>...</td>\n",
       "      <td>...</td>\n",
       "      <td>...</td>\n",
       "      <td>...</td>\n",
       "      <td>...</td>\n",
       "      <td>...</td>\n",
       "    </tr>\n",
       "    <tr>\n",
       "      <th>763</th>\n",
       "      <td>10.0</td>\n",
       "      <td>101.0</td>\n",
       "      <td>76</td>\n",
       "      <td>48</td>\n",
       "      <td>180.0</td>\n",
       "      <td>32.9</td>\n",
       "      <td>0.171</td>\n",
       "      <td>63.0</td>\n",
       "      <td>0</td>\n",
       "    </tr>\n",
       "    <tr>\n",
       "      <th>764</th>\n",
       "      <td>2.0</td>\n",
       "      <td>122.0</td>\n",
       "      <td>70</td>\n",
       "      <td>27</td>\n",
       "      <td>0.0</td>\n",
       "      <td>36.8</td>\n",
       "      <td>0.340</td>\n",
       "      <td>27.0</td>\n",
       "      <td>0</td>\n",
       "    </tr>\n",
       "    <tr>\n",
       "      <th>765</th>\n",
       "      <td>5.0</td>\n",
       "      <td>121.0</td>\n",
       "      <td>72</td>\n",
       "      <td>23</td>\n",
       "      <td>112.0</td>\n",
       "      <td>26.2</td>\n",
       "      <td>0.245</td>\n",
       "      <td>30.0</td>\n",
       "      <td>0</td>\n",
       "    </tr>\n",
       "    <tr>\n",
       "      <th>766</th>\n",
       "      <td>1.0</td>\n",
       "      <td>126.0</td>\n",
       "      <td>60</td>\n",
       "      <td>0</td>\n",
       "      <td>0.0</td>\n",
       "      <td>30.1</td>\n",
       "      <td>0.349</td>\n",
       "      <td>47.0</td>\n",
       "      <td>1</td>\n",
       "    </tr>\n",
       "    <tr>\n",
       "      <th>767</th>\n",
       "      <td>1.0</td>\n",
       "      <td>93.0</td>\n",
       "      <td>70</td>\n",
       "      <td>31</td>\n",
       "      <td>0.0</td>\n",
       "      <td>30.4</td>\n",
       "      <td>0.315</td>\n",
       "      <td>23.0</td>\n",
       "      <td>0</td>\n",
       "    </tr>\n",
       "  </tbody>\n",
       "</table>\n",
       "<p>768 rows × 9 columns</p>\n",
       "</div>"
      ],
      "text/plain": [
       "     Pregnancies  Glucose  BloodPressure  SkinThickness  Insulin   BMI  \\\n",
       "0            6.0    148.0             72             35      0.0  33.6   \n",
       "1            1.0     85.0             66             29      0.0  26.6   \n",
       "2            8.0    183.0             64              0      0.0  23.3   \n",
       "3            1.0     89.0             66             23     94.0  28.1   \n",
       "4            0.0    137.0             40             35    168.0  43.1   \n",
       "..           ...      ...            ...            ...      ...   ...   \n",
       "763         10.0    101.0             76             48    180.0  32.9   \n",
       "764          2.0    122.0             70             27      0.0  36.8   \n",
       "765          5.0    121.0             72             23    112.0  26.2   \n",
       "766          1.0    126.0             60              0      0.0  30.1   \n",
       "767          1.0     93.0             70             31      0.0  30.4   \n",
       "\n",
       "     DiabetesPedigreeFunction   Age  Outcome  \n",
       "0                       0.627  50.0        1  \n",
       "1                       0.351  31.0        0  \n",
       "2                       0.672  32.0        1  \n",
       "3                       0.167  21.0        0  \n",
       "4                       1.200  33.0        1  \n",
       "..                        ...   ...      ...  \n",
       "763                     0.171  63.0        0  \n",
       "764                     0.340  27.0        0  \n",
       "765                     0.245  30.0        0  \n",
       "766                     0.349  47.0        1  \n",
       "767                     0.315  23.0        0  \n",
       "\n",
       "[768 rows x 9 columns]"
      ]
     },
     "execution_count": 18,
     "metadata": {},
     "output_type": "execute_result"
    }
   ],
   "source": [
    "#data['Pregnancies']=data['Pregnancies'].astype(int)\n",
    "#data['Glucose']=data['Glucose'].astype(int)\n",
    "#data['Insulin']=data['Insulin'].astype(int)\n",
    "#data['BMI']=data['BMI'].astype(int)\n",
    "#data['DiabetesPedigreeFunction']=data['DiabetesPedigreeFunction'].astype(int)\n",
    "#data['Age']=data['Age'].astype(int)\n",
    "data"
   ]
  },
  {
   "cell_type": "code",
   "execution_count": 19,
   "id": "d0f2472e",
   "metadata": {},
   "outputs": [
    {
     "name": "stdout",
     "output_type": "stream",
     "text": [
      "<class 'pandas.core.frame.DataFrame'>\n",
      "RangeIndex: 768 entries, 0 to 767\n",
      "Data columns (total 9 columns):\n",
      " #   Column                    Non-Null Count  Dtype  \n",
      "---  ------                    --------------  -----  \n",
      " 0   Pregnancies               768 non-null    float64\n",
      " 1   Glucose                   768 non-null    float64\n",
      " 2   BloodPressure             768 non-null    int64  \n",
      " 3   SkinThickness             768 non-null    int64  \n",
      " 4   Insulin                   768 non-null    float64\n",
      " 5   BMI                       768 non-null    float64\n",
      " 6   DiabetesPedigreeFunction  768 non-null    float64\n",
      " 7   Age                       768 non-null    float64\n",
      " 8   Outcome                   768 non-null    int64  \n",
      "dtypes: float64(6), int64(3)\n",
      "memory usage: 54.1 KB\n"
     ]
    }
   ],
   "source": [
    "data.info()"
   ]
  },
  {
   "cell_type": "markdown",
   "id": "2f923bdd",
   "metadata": {},
   "source": [
    "# Début Machine Learning"
   ]
  },
  {
   "cell_type": "code",
   "execution_count": 20,
   "id": "f00ae274",
   "metadata": {},
   "outputs": [],
   "source": [
    "from sklearn.model_selection import train_test_split"
   ]
  },
  {
   "cell_type": "code",
   "execution_count": 21,
   "id": "21ec6634",
   "metadata": {},
   "outputs": [],
   "source": [
    "X=data.drop(['Outcome'],axis=1)\n",
    "y=data['Outcome']"
   ]
  },
  {
   "cell_type": "code",
   "execution_count": 22,
   "id": "85c58f81",
   "metadata": {},
   "outputs": [],
   "source": [
    "X_train,X_test,y_train,y_test=train_test_split(X,y,test_size=0.2,\n",
    "                                               random_state=101)"
   ]
  },
  {
   "cell_type": "code",
   "execution_count": 23,
   "id": "a3560ee2",
   "metadata": {},
   "outputs": [],
   "source": [
    "from sklearn.ensemble import RandomForestRegressor"
   ]
  },
  {
   "cell_type": "code",
   "execution_count": 24,
   "id": "c7743e00",
   "metadata": {},
   "outputs": [],
   "source": [
    "modelRF=RandomForestRegressor()\n",
    "modelRF.fit(X_train,y_train)\n",
    "y_predictRF=modelRF.predict(X_test)"
   ]
  },
  {
   "cell_type": "code",
   "execution_count": 25,
   "id": "d150c14c",
   "metadata": {},
   "outputs": [
    {
     "data": {
      "text/html": [
       "<div>\n",
       "<style scoped>\n",
       "    .dataframe tbody tr th:only-of-type {\n",
       "        vertical-align: middle;\n",
       "    }\n",
       "\n",
       "    .dataframe tbody tr th {\n",
       "        vertical-align: top;\n",
       "    }\n",
       "\n",
       "    .dataframe thead th {\n",
       "        text-align: right;\n",
       "    }\n",
       "</style>\n",
       "<table border=\"1\" class=\"dataframe\">\n",
       "  <thead>\n",
       "    <tr style=\"text-align: right;\">\n",
       "      <th></th>\n",
       "      <th>Vrai Y</th>\n",
       "      <th>Y predits</th>\n",
       "    </tr>\n",
       "  </thead>\n",
       "  <tbody>\n",
       "    <tr>\n",
       "      <th>766</th>\n",
       "      <td>1</td>\n",
       "      <td>0.52</td>\n",
       "    </tr>\n",
       "    <tr>\n",
       "      <th>748</th>\n",
       "      <td>1</td>\n",
       "      <td>1.00</td>\n",
       "    </tr>\n",
       "    <tr>\n",
       "      <th>42</th>\n",
       "      <td>0</td>\n",
       "      <td>0.15</td>\n",
       "    </tr>\n",
       "    <tr>\n",
       "      <th>485</th>\n",
       "      <td>1</td>\n",
       "      <td>0.28</td>\n",
       "    </tr>\n",
       "    <tr>\n",
       "      <th>543</th>\n",
       "      <td>0</td>\n",
       "      <td>0.31</td>\n",
       "    </tr>\n",
       "    <tr>\n",
       "      <th>...</th>\n",
       "      <td>...</td>\n",
       "      <td>...</td>\n",
       "    </tr>\n",
       "    <tr>\n",
       "      <th>603</th>\n",
       "      <td>1</td>\n",
       "      <td>0.80</td>\n",
       "    </tr>\n",
       "    <tr>\n",
       "      <th>510</th>\n",
       "      <td>1</td>\n",
       "      <td>0.00</td>\n",
       "    </tr>\n",
       "    <tr>\n",
       "      <th>171</th>\n",
       "      <td>1</td>\n",
       "      <td>0.64</td>\n",
       "    </tr>\n",
       "    <tr>\n",
       "      <th>672</th>\n",
       "      <td>0</td>\n",
       "      <td>0.13</td>\n",
       "    </tr>\n",
       "    <tr>\n",
       "      <th>298</th>\n",
       "      <td>1</td>\n",
       "      <td>0.29</td>\n",
       "    </tr>\n",
       "  </tbody>\n",
       "</table>\n",
       "<p>154 rows × 2 columns</p>\n",
       "</div>"
      ],
      "text/plain": [
       "     Vrai Y  Y predits\n",
       "766       1       0.52\n",
       "748       1       1.00\n",
       "42        0       0.15\n",
       "485       1       0.28\n",
       "543       0       0.31\n",
       "..      ...        ...\n",
       "603       1       0.80\n",
       "510       1       0.00\n",
       "171       1       0.64\n",
       "672       0       0.13\n",
       "298       1       0.29\n",
       "\n",
       "[154 rows x 2 columns]"
      ]
     },
     "execution_count": 25,
     "metadata": {},
     "output_type": "execute_result"
    }
   ],
   "source": [
    "RFDF=pd.DataFrame({'Vrai Y':y_test,'Y predits':y_predictRF})\n",
    "RFDF"
   ]
  },
  {
   "cell_type": "code",
   "execution_count": 26,
   "id": "9bd4c100",
   "metadata": {},
   "outputs": [],
   "source": [
    "from sklearn import metrics\n",
    "maeRF=metrics.mean_absolute_error(y_test,y_predictRF)\n",
    "mseRF=metrics.mean_squared_error(y_test,y_predictRF)\n",
    "rmseRF=np.sqrt(mseRF)\n",
    "r2RF=metrics.r2_score(y_test,y_predictRF)"
   ]
  },
  {
   "cell_type": "code",
   "execution_count": 27,
   "id": "fa128f0b",
   "metadata": {},
   "outputs": [],
   "source": [
    "modeles=['Random forest']\n",
    "mae=[maeRF]\n",
    "mse=[mseRF]\n",
    "rmse=[rmseRF]\n",
    "r2=[r2RF]"
   ]
  },
  {
   "cell_type": "code",
   "execution_count": 28,
   "id": "e70fa526",
   "metadata": {},
   "outputs": [],
   "source": [
    "evaluationFinale=pd.DataFrame({'Modeles':modeles,'MAE':mae,'MSE':mse,\n",
    "                              'RMSE':rmse,'R squared':r2})"
   ]
  },
  {
   "cell_type": "code",
   "execution_count": 29,
   "id": "5446f257",
   "metadata": {},
   "outputs": [
    {
     "data": {
      "text/html": [
       "<div>\n",
       "<style scoped>\n",
       "    .dataframe tbody tr th:only-of-type {\n",
       "        vertical-align: middle;\n",
       "    }\n",
       "\n",
       "    .dataframe tbody tr th {\n",
       "        vertical-align: top;\n",
       "    }\n",
       "\n",
       "    .dataframe thead th {\n",
       "        text-align: right;\n",
       "    }\n",
       "</style>\n",
       "<table border=\"1\" class=\"dataframe\">\n",
       "  <thead>\n",
       "    <tr style=\"text-align: right;\">\n",
       "      <th></th>\n",
       "      <th>Modeles</th>\n",
       "      <th>MAE</th>\n",
       "      <th>MSE</th>\n",
       "      <th>RMSE</th>\n",
       "      <th>R squared</th>\n",
       "    </tr>\n",
       "  </thead>\n",
       "  <tbody>\n",
       "    <tr>\n",
       "      <th>0</th>\n",
       "      <td>Random forest</td>\n",
       "      <td>0.290195</td>\n",
       "      <td>0.148688</td>\n",
       "      <td>0.3856</td>\n",
       "      <td>0.328712</td>\n",
       "    </tr>\n",
       "  </tbody>\n",
       "</table>\n",
       "</div>"
      ],
      "text/plain": [
       "         Modeles       MAE       MSE    RMSE  R squared\n",
       "0  Random forest  0.290195  0.148688  0.3856   0.328712"
      ]
     },
     "execution_count": 29,
     "metadata": {},
     "output_type": "execute_result"
    }
   ],
   "source": [
    "evaluationFinale"
   ]
  },
  {
   "cell_type": "code",
   "execution_count": 30,
   "id": "3c1d2e36",
   "metadata": {},
   "outputs": [],
   "source": [
    "import pickle as pl\n",
    "pl.dump(modelRF, open(\"E:\\Cours L2 CSI\\Laboratoire V\\TP_Labo\\ModelDiabRF.pkl\",\"wb\"))\n",
    "model=pl.load(open(\"E:\\Cours L2 CSI\\Laboratoire V\\TP_Labo\\ModelDiabRF.pkl\",\"rb\"))"
   ]
  },
  {
   "cell_type": "code",
   "execution_count": 31,
   "id": "ca07f37b",
   "metadata": {
    "scrolled": true
   },
   "outputs": [
    {
     "data": {
      "text/html": [
       "<div>\n",
       "<style scoped>\n",
       "    .dataframe tbody tr th:only-of-type {\n",
       "        vertical-align: middle;\n",
       "    }\n",
       "\n",
       "    .dataframe tbody tr th {\n",
       "        vertical-align: top;\n",
       "    }\n",
       "\n",
       "    .dataframe thead th {\n",
       "        text-align: right;\n",
       "    }\n",
       "</style>\n",
       "<table border=\"1\" class=\"dataframe\">\n",
       "  <thead>\n",
       "    <tr style=\"text-align: right;\">\n",
       "      <th></th>\n",
       "      <th>Pregnancies</th>\n",
       "      <th>Glucose</th>\n",
       "      <th>BloodPressure</th>\n",
       "      <th>SkinThickness</th>\n",
       "      <th>Insulin</th>\n",
       "      <th>BMI</th>\n",
       "      <th>DiabetesPedigreeFunction</th>\n",
       "      <th>Age</th>\n",
       "      <th>Outcome</th>\n",
       "    </tr>\n",
       "  </thead>\n",
       "  <tbody>\n",
       "    <tr>\n",
       "      <th>Pregnancies</th>\n",
       "      <td>1.000000</td>\n",
       "      <td>0.128987</td>\n",
       "      <td>0.184307</td>\n",
       "      <td>-0.084349</td>\n",
       "      <td>-0.077793</td>\n",
       "      <td>0.024681</td>\n",
       "      <td>-0.017398</td>\n",
       "      <td>0.549695</td>\n",
       "      <td>0.220392</td>\n",
       "    </tr>\n",
       "    <tr>\n",
       "      <th>Glucose</th>\n",
       "      <td>0.128987</td>\n",
       "      <td>1.000000</td>\n",
       "      <td>0.197865</td>\n",
       "      <td>0.059806</td>\n",
       "      <td>0.315856</td>\n",
       "      <td>0.235542</td>\n",
       "      <td>0.120213</td>\n",
       "      <td>0.269056</td>\n",
       "      <td>0.479158</td>\n",
       "    </tr>\n",
       "    <tr>\n",
       "      <th>BloodPressure</th>\n",
       "      <td>0.184307</td>\n",
       "      <td>0.197865</td>\n",
       "      <td>1.000000</td>\n",
       "      <td>0.152644</td>\n",
       "      <td>0.050080</td>\n",
       "      <td>0.282544</td>\n",
       "      <td>0.038793</td>\n",
       "      <td>0.304208</td>\n",
       "      <td>0.113301</td>\n",
       "    </tr>\n",
       "    <tr>\n",
       "      <th>SkinThickness</th>\n",
       "      <td>-0.084349</td>\n",
       "      <td>0.059806</td>\n",
       "      <td>0.152644</td>\n",
       "      <td>1.000000</td>\n",
       "      <td>0.488101</td>\n",
       "      <td>0.401494</td>\n",
       "      <td>0.177920</td>\n",
       "      <td>-0.119170</td>\n",
       "      <td>0.073125</td>\n",
       "    </tr>\n",
       "    <tr>\n",
       "      <th>Insulin</th>\n",
       "      <td>-0.077793</td>\n",
       "      <td>0.315856</td>\n",
       "      <td>0.050080</td>\n",
       "      <td>0.488101</td>\n",
       "      <td>1.000000</td>\n",
       "      <td>0.209665</td>\n",
       "      <td>0.190087</td>\n",
       "      <td>-0.065547</td>\n",
       "      <td>0.124721</td>\n",
       "    </tr>\n",
       "    <tr>\n",
       "      <th>BMI</th>\n",
       "      <td>0.024681</td>\n",
       "      <td>0.235542</td>\n",
       "      <td>0.282544</td>\n",
       "      <td>0.401494</td>\n",
       "      <td>0.209665</td>\n",
       "      <td>1.000000</td>\n",
       "      <td>0.141087</td>\n",
       "      <td>0.043375</td>\n",
       "      <td>0.309739</td>\n",
       "    </tr>\n",
       "    <tr>\n",
       "      <th>DiabetesPedigreeFunction</th>\n",
       "      <td>-0.017398</td>\n",
       "      <td>0.120213</td>\n",
       "      <td>0.038793</td>\n",
       "      <td>0.177920</td>\n",
       "      <td>0.190087</td>\n",
       "      <td>0.141087</td>\n",
       "      <td>1.000000</td>\n",
       "      <td>0.047289</td>\n",
       "      <td>0.184969</td>\n",
       "    </tr>\n",
       "    <tr>\n",
       "      <th>Age</th>\n",
       "      <td>0.549695</td>\n",
       "      <td>0.269056</td>\n",
       "      <td>0.304208</td>\n",
       "      <td>-0.119170</td>\n",
       "      <td>-0.065547</td>\n",
       "      <td>0.043375</td>\n",
       "      <td>0.047289</td>\n",
       "      <td>1.000000</td>\n",
       "      <td>0.242702</td>\n",
       "    </tr>\n",
       "    <tr>\n",
       "      <th>Outcome</th>\n",
       "      <td>0.220392</td>\n",
       "      <td>0.479158</td>\n",
       "      <td>0.113301</td>\n",
       "      <td>0.073125</td>\n",
       "      <td>0.124721</td>\n",
       "      <td>0.309739</td>\n",
       "      <td>0.184969</td>\n",
       "      <td>0.242702</td>\n",
       "      <td>1.000000</td>\n",
       "    </tr>\n",
       "  </tbody>\n",
       "</table>\n",
       "</div>"
      ],
      "text/plain": [
       "                          Pregnancies   Glucose  BloodPressure  SkinThickness  \\\n",
       "Pregnancies                  1.000000  0.128987       0.184307      -0.084349   \n",
       "Glucose                      0.128987  1.000000       0.197865       0.059806   \n",
       "BloodPressure                0.184307  0.197865       1.000000       0.152644   \n",
       "SkinThickness               -0.084349  0.059806       0.152644       1.000000   \n",
       "Insulin                     -0.077793  0.315856       0.050080       0.488101   \n",
       "BMI                          0.024681  0.235542       0.282544       0.401494   \n",
       "DiabetesPedigreeFunction    -0.017398  0.120213       0.038793       0.177920   \n",
       "Age                          0.549695  0.269056       0.304208      -0.119170   \n",
       "Outcome                      0.220392  0.479158       0.113301       0.073125   \n",
       "\n",
       "                           Insulin       BMI  DiabetesPedigreeFunction  \\\n",
       "Pregnancies              -0.077793  0.024681                 -0.017398   \n",
       "Glucose                   0.315856  0.235542                  0.120213   \n",
       "BloodPressure             0.050080  0.282544                  0.038793   \n",
       "SkinThickness             0.488101  0.401494                  0.177920   \n",
       "Insulin                   1.000000  0.209665                  0.190087   \n",
       "BMI                       0.209665  1.000000                  0.141087   \n",
       "DiabetesPedigreeFunction  0.190087  0.141087                  1.000000   \n",
       "Age                      -0.065547  0.043375                  0.047289   \n",
       "Outcome                   0.124721  0.309739                  0.184969   \n",
       "\n",
       "                               Age   Outcome  \n",
       "Pregnancies               0.549695  0.220392  \n",
       "Glucose                   0.269056  0.479158  \n",
       "BloodPressure             0.304208  0.113301  \n",
       "SkinThickness            -0.119170  0.073125  \n",
       "Insulin                  -0.065547  0.124721  \n",
       "BMI                       0.043375  0.309739  \n",
       "DiabetesPedigreeFunction  0.047289  0.184969  \n",
       "Age                       1.000000  0.242702  \n",
       "Outcome                   0.242702  1.000000  "
      ]
     },
     "execution_count": 31,
     "metadata": {},
     "output_type": "execute_result"
    }
   ],
   "source": [
    "data.corr()"
   ]
  },
  {
   "cell_type": "code",
   "execution_count": 32,
   "id": "b44c70b6",
   "metadata": {},
   "outputs": [
    {
     "data": {
      "text/plain": [
       "array([1, 0], dtype=int64)"
      ]
     },
     "execution_count": 32,
     "metadata": {},
     "output_type": "execute_result"
    }
   ],
   "source": [
    "data.Outcome.unique()"
   ]
  },
  {
   "cell_type": "code",
   "execution_count": 33,
   "id": "0690c525",
   "metadata": {},
   "outputs": [
    {
     "name": "stdout",
     "output_type": "stream",
     "text": [
      "<class 'pandas.core.frame.DataFrame'>\n",
      "RangeIndex: 768 entries, 0 to 767\n",
      "Data columns (total 9 columns):\n",
      " #   Column                    Non-Null Count  Dtype  \n",
      "---  ------                    --------------  -----  \n",
      " 0   Pregnancies               768 non-null    float64\n",
      " 1   Glucose                   768 non-null    float64\n",
      " 2   BloodPressure             768 non-null    int64  \n",
      " 3   SkinThickness             768 non-null    int64  \n",
      " 4   Insulin                   768 non-null    float64\n",
      " 5   BMI                       768 non-null    float64\n",
      " 6   DiabetesPedigreeFunction  768 non-null    float64\n",
      " 7   Age                       768 non-null    float64\n",
      " 8   Outcome                   768 non-null    int64  \n",
      "dtypes: float64(6), int64(3)\n",
      "memory usage: 54.1 KB\n"
     ]
    }
   ],
   "source": [
    "data.info()"
   ]
  },
  {
   "cell_type": "code",
   "execution_count": 34,
   "id": "35da1945",
   "metadata": {},
   "outputs": [],
   "source": [
    "#data['BloodPressure']=data['BloodPressure'].astype(float)\n",
    "#data['SkinThickness']=data['SkinThickness'].astype(float)\n",
    "#data['SkinThickness']=data['BloodPressure'].astype(float)"
   ]
  },
  {
   "cell_type": "code",
   "execution_count": 35,
   "id": "c92cc2f9",
   "metadata": {},
   "outputs": [
    {
     "data": {
      "text/plain": [
       "array([50. , 31. , 32. , 21. , 33. , 30. , 26. , 29. , 53. , 54. , 34. ,\n",
       "       57. , 59. , 51. , 27. , 41. , 43. , 22. , 38. , 60. , 28. , 45. ,\n",
       "       35. , 46. , 56. , 37. , 48. , 40. , 25. , 24. , 58. , 42. , 44. ,\n",
       "       39. , 36. , 23. , 61. , 66.5, 62. , 55. , 65. , 47. , 52. , 66. ,\n",
       "       49. , 63. , 64. ])"
      ]
     },
     "execution_count": 35,
     "metadata": {},
     "output_type": "execute_result"
    }
   ],
   "source": [
    "data.Age.unique()"
   ]
  },
  {
   "cell_type": "code",
   "execution_count": 36,
   "id": "eddd6e18",
   "metadata": {},
   "outputs": [
    {
     "data": {
      "text/html": [
       "<div>\n",
       "<style scoped>\n",
       "    .dataframe tbody tr th:only-of-type {\n",
       "        vertical-align: middle;\n",
       "    }\n",
       "\n",
       "    .dataframe tbody tr th {\n",
       "        vertical-align: top;\n",
       "    }\n",
       "\n",
       "    .dataframe thead th {\n",
       "        text-align: right;\n",
       "    }\n",
       "</style>\n",
       "<table border=\"1\" class=\"dataframe\">\n",
       "  <thead>\n",
       "    <tr style=\"text-align: right;\">\n",
       "      <th></th>\n",
       "      <th>Pregnancies</th>\n",
       "      <th>Glucose</th>\n",
       "      <th>BloodPressure</th>\n",
       "      <th>SkinThickness</th>\n",
       "      <th>Insulin</th>\n",
       "      <th>BMI</th>\n",
       "      <th>DiabetesPedigreeFunction</th>\n",
       "      <th>Age</th>\n",
       "      <th>Outcome</th>\n",
       "    </tr>\n",
       "  </thead>\n",
       "  <tbody>\n",
       "    <tr>\n",
       "      <th>0</th>\n",
       "      <td>6.0</td>\n",
       "      <td>148.0</td>\n",
       "      <td>72</td>\n",
       "      <td>35</td>\n",
       "      <td>0.0</td>\n",
       "      <td>33.6</td>\n",
       "      <td>0.627</td>\n",
       "      <td>50.0</td>\n",
       "      <td>1</td>\n",
       "    </tr>\n",
       "    <tr>\n",
       "      <th>1</th>\n",
       "      <td>1.0</td>\n",
       "      <td>85.0</td>\n",
       "      <td>66</td>\n",
       "      <td>29</td>\n",
       "      <td>0.0</td>\n",
       "      <td>26.6</td>\n",
       "      <td>0.351</td>\n",
       "      <td>31.0</td>\n",
       "      <td>0</td>\n",
       "    </tr>\n",
       "    <tr>\n",
       "      <th>2</th>\n",
       "      <td>8.0</td>\n",
       "      <td>183.0</td>\n",
       "      <td>64</td>\n",
       "      <td>0</td>\n",
       "      <td>0.0</td>\n",
       "      <td>23.3</td>\n",
       "      <td>0.672</td>\n",
       "      <td>32.0</td>\n",
       "      <td>1</td>\n",
       "    </tr>\n",
       "    <tr>\n",
       "      <th>3</th>\n",
       "      <td>1.0</td>\n",
       "      <td>89.0</td>\n",
       "      <td>66</td>\n",
       "      <td>23</td>\n",
       "      <td>94.0</td>\n",
       "      <td>28.1</td>\n",
       "      <td>0.167</td>\n",
       "      <td>21.0</td>\n",
       "      <td>0</td>\n",
       "    </tr>\n",
       "    <tr>\n",
       "      <th>4</th>\n",
       "      <td>0.0</td>\n",
       "      <td>137.0</td>\n",
       "      <td>40</td>\n",
       "      <td>35</td>\n",
       "      <td>168.0</td>\n",
       "      <td>43.1</td>\n",
       "      <td>1.200</td>\n",
       "      <td>33.0</td>\n",
       "      <td>1</td>\n",
       "    </tr>\n",
       "    <tr>\n",
       "      <th>...</th>\n",
       "      <td>...</td>\n",
       "      <td>...</td>\n",
       "      <td>...</td>\n",
       "      <td>...</td>\n",
       "      <td>...</td>\n",
       "      <td>...</td>\n",
       "      <td>...</td>\n",
       "      <td>...</td>\n",
       "      <td>...</td>\n",
       "    </tr>\n",
       "    <tr>\n",
       "      <th>763</th>\n",
       "      <td>10.0</td>\n",
       "      <td>101.0</td>\n",
       "      <td>76</td>\n",
       "      <td>48</td>\n",
       "      <td>180.0</td>\n",
       "      <td>32.9</td>\n",
       "      <td>0.171</td>\n",
       "      <td>63.0</td>\n",
       "      <td>0</td>\n",
       "    </tr>\n",
       "    <tr>\n",
       "      <th>764</th>\n",
       "      <td>2.0</td>\n",
       "      <td>122.0</td>\n",
       "      <td>70</td>\n",
       "      <td>27</td>\n",
       "      <td>0.0</td>\n",
       "      <td>36.8</td>\n",
       "      <td>0.340</td>\n",
       "      <td>27.0</td>\n",
       "      <td>0</td>\n",
       "    </tr>\n",
       "    <tr>\n",
       "      <th>765</th>\n",
       "      <td>5.0</td>\n",
       "      <td>121.0</td>\n",
       "      <td>72</td>\n",
       "      <td>23</td>\n",
       "      <td>112.0</td>\n",
       "      <td>26.2</td>\n",
       "      <td>0.245</td>\n",
       "      <td>30.0</td>\n",
       "      <td>0</td>\n",
       "    </tr>\n",
       "    <tr>\n",
       "      <th>766</th>\n",
       "      <td>1.0</td>\n",
       "      <td>126.0</td>\n",
       "      <td>60</td>\n",
       "      <td>0</td>\n",
       "      <td>0.0</td>\n",
       "      <td>30.1</td>\n",
       "      <td>0.349</td>\n",
       "      <td>47.0</td>\n",
       "      <td>1</td>\n",
       "    </tr>\n",
       "    <tr>\n",
       "      <th>767</th>\n",
       "      <td>1.0</td>\n",
       "      <td>93.0</td>\n",
       "      <td>70</td>\n",
       "      <td>31</td>\n",
       "      <td>0.0</td>\n",
       "      <td>30.4</td>\n",
       "      <td>0.315</td>\n",
       "      <td>23.0</td>\n",
       "      <td>0</td>\n",
       "    </tr>\n",
       "  </tbody>\n",
       "</table>\n",
       "<p>768 rows × 9 columns</p>\n",
       "</div>"
      ],
      "text/plain": [
       "     Pregnancies  Glucose  BloodPressure  SkinThickness  Insulin   BMI  \\\n",
       "0            6.0    148.0             72             35      0.0  33.6   \n",
       "1            1.0     85.0             66             29      0.0  26.6   \n",
       "2            8.0    183.0             64              0      0.0  23.3   \n",
       "3            1.0     89.0             66             23     94.0  28.1   \n",
       "4            0.0    137.0             40             35    168.0  43.1   \n",
       "..           ...      ...            ...            ...      ...   ...   \n",
       "763         10.0    101.0             76             48    180.0  32.9   \n",
       "764          2.0    122.0             70             27      0.0  36.8   \n",
       "765          5.0    121.0             72             23    112.0  26.2   \n",
       "766          1.0    126.0             60              0      0.0  30.1   \n",
       "767          1.0     93.0             70             31      0.0  30.4   \n",
       "\n",
       "     DiabetesPedigreeFunction   Age  Outcome  \n",
       "0                       0.627  50.0        1  \n",
       "1                       0.351  31.0        0  \n",
       "2                       0.672  32.0        1  \n",
       "3                       0.167  21.0        0  \n",
       "4                       1.200  33.0        1  \n",
       "..                        ...   ...      ...  \n",
       "763                     0.171  63.0        0  \n",
       "764                     0.340  27.0        0  \n",
       "765                     0.245  30.0        0  \n",
       "766                     0.349  47.0        1  \n",
       "767                     0.315  23.0        0  \n",
       "\n",
       "[768 rows x 9 columns]"
      ]
     },
     "execution_count": 36,
     "metadata": {},
     "output_type": "execute_result"
    }
   ],
   "source": [
    "data"
   ]
  },
  {
   "cell_type": "code",
   "execution_count": 37,
   "id": "3ab51ad6",
   "metadata": {},
   "outputs": [],
   "source": [
    "import numpy as np\n",
    "def diabete(modelRF,Pregnancies=1.0,Glucose=93.0,BloodPressure=70,SkinThickness=31,Insulin=0.0,BMI=30.4,DiabetesPedigreeFunction=0.315,Age=23.0):\n",
    "    X=np.array([Pregnancies,Glucose,BloodPressure,SkinThickness,Insulin,BMI,DiabetesPedigreeFunction,Age]).reshape(1,8)\n",
    "    print((modelRF.predict(X)>0.5).astype(\"float\"))"
   ]
  },
  {
   "cell_type": "code",
   "execution_count": 38,
   "id": "c66e0975",
   "metadata": {},
   "outputs": [
    {
     "name": "stdout",
     "output_type": "stream",
     "text": [
      "[0.]\n"
     ]
    },
    {
     "name": "stderr",
     "output_type": "stream",
     "text": [
      "C:\\Users\\ANGEL\\Anaconda3\\lib\\site-packages\\sklearn\\base.py:450: UserWarning: X does not have valid feature names, but RandomForestRegressor was fitted with feature names\n",
      "  warnings.warn(\n"
     ]
    }
   ],
   "source": [
    "diabete(modelRF)"
   ]
  },
  {
   "cell_type": "code",
   "execution_count": null,
   "id": "f623251e",
   "metadata": {},
   "outputs": [],
   "source": []
  }
 ],
 "metadata": {
  "kernelspec": {
   "display_name": "Python 3 (ipykernel)",
   "language": "python",
   "name": "python3"
  },
  "language_info": {
   "codemirror_mode": {
    "name": "ipython",
    "version": 3
   },
   "file_extension": ".py",
   "mimetype": "text/x-python",
   "name": "python",
   "nbconvert_exporter": "python",
   "pygments_lexer": "ipython3",
   "version": "3.9.12"
  }
 },
 "nbformat": 4,
 "nbformat_minor": 5
}
